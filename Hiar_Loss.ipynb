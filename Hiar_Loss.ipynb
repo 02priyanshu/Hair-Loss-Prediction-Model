{
 "cells": [
  {
   "cell_type": "code",
   "execution_count": 1,
   "id": "bb50b111-f0d9-4692-8df2-766b3ae4a4dc",
   "metadata": {},
   "outputs": [],
   "source": [
    "import numpy as np\n",
    "import pandas as pd\n",
    "import matplotlib.pyplot as plt\n",
    "from sklearn.model_selection import train_test_split\n",
    "import tensorflow as tf\n",
    "from tensorflow.keras import models\n",
    "from tensorflow.keras.layers import Dense"
   ]
  },
  {
   "cell_type": "code",
   "execution_count": 2,
   "id": "6807371d-de13-4fb6-8b46-e2b83c47c0bc",
   "metadata": {},
   "outputs": [],
   "source": [
    "data=pd.read_csv(r\"C:\\Users\\Priyanshul\\OneDrive\\Desktop\\Handwritten\\hair_loss\\Predict Hair Fall.csv\")"
   ]
  },
  {
   "cell_type": "code",
   "execution_count": 3,
   "id": "aefb4824-cb38-4dd7-b1ff-782cff3c64fb",
   "metadata": {},
   "outputs": [
    {
     "data": {
      "text/plain": [
       "array(['Magnesium deficiency', 'Protein deficiency', 'Biotin Deficiency ',\n",
       "       'Iron deficiency', 'Selenium deficiency', 'Omega-3 fatty acids',\n",
       "       'Zinc Deficiency', 'Vitamin A Deficiency', 'Vitamin D Deficiency',\n",
       "       'No Data', 'Vitamin E deficiency'], dtype=object)"
      ]
     },
     "execution_count": 3,
     "metadata": {},
     "output_type": "execute_result"
    }
   ],
   "source": [
    "data['Nutritional Deficiencies '].unique()"
   ]
  },
  {
   "cell_type": "code",
   "execution_count": 4,
   "id": "959a7d17-f172-4ed0-be94-d3ff8da1316f",
   "metadata": {},
   "outputs": [],
   "source": [
    "mapping={'Yes':1,'No':0}\n",
    "data['Genetics']=[mapping.get(lp,-1) for lp in data['Genetics']]\n",
    "data['Hormonal Changes']=[mapping.get(lp,-1) for lp in data['Hormonal Changes']]\n",
    "data['Poor Hair Care Habits ']=[mapping.get(lp,-1) for lp in data['Poor Hair Care Habits ']]\n",
    "data['Environmental Factors']=[mapping.get(lp,-1) for lp in data['Environmental Factors']]\n",
    "data['Smoking']=[mapping.get(lp,-1) for lp in data['Smoking']]\n",
    "data['Weight Loss ']=[mapping.get(lp,-1) for lp in data['Weight Loss ']]"
   ]
  },
  {
   "cell_type": "code",
   "execution_count": 5,
   "id": "078f209a-04dc-439d-9083-7b55b68b6333",
   "metadata": {},
   "outputs": [],
   "source": [
    "mapping={'Moderate':1, 'High':2, 'Low':0}\n",
    "data['Stress']=[mapping.get(lp,-1) for lp in data['Stress']]"
   ]
  },
  {
   "cell_type": "code",
   "execution_count": 6,
   "id": "9559cf81-afd7-445b-a96a-29f690e3c241",
   "metadata": {},
   "outputs": [],
   "source": [
    "mapping={'No Data':0, 'Eczema':1, 'Dermatosis':2, 'Ringworm':3, 'Psoriasis':4,\n",
    "       'Alopecia Areata ':5, 'Scalp Infection':6, 'Seborrheic Dermatitis':7,\n",
    "       'Dermatitis':8, 'Thyroid Problems':9, 'Androgenetic Alopecia':10}\n",
    "data['Medical Conditions']=[mapping.get(pt,-1) for pt in data['Medical Conditions']]"
   ]
  },
  {
   "cell_type": "code",
   "execution_count": 7,
   "id": "8f2ccf20-9651-4dff-b501-941ee5d12426",
   "metadata": {},
   "outputs": [],
   "source": [
    "mapping={'No Data':0, 'Antibiotics':1, 'Antifungal Cream':2, 'Accutane':3,\n",
    "       'Chemotherapy':4, 'Steroids':5, 'Rogaine':6, 'Blood Pressure Medication':7,\n",
    "       'Immunomodulators':8, 'Antidepressants ':9, 'Heart Medication ':10}\n",
    "data['Medications & Treatments']=[mapping.get(pt,-1) for pt in data['Medications & Treatments']]"
   ]
  },
  {
   "cell_type": "code",
   "execution_count": 8,
   "id": "c9fb1be5-e155-4718-aeef-a4efb1f74715",
   "metadata": {},
   "outputs": [],
   "source": [
    "mapping={'Magnesium deficiency':0, 'Protein deficiency':1, 'Biotin Deficiency ':2,\n",
    "       'Iron deficiency':3, 'Selenium deficiency':4, 'Omega-3 fatty acids':5,\n",
    "       'Zinc Deficiency':6, 'Vitamin A Deficiency':7, 'Vitamin D Deficiency':8,\n",
    "       'No Data':9, 'Vitamin E deficiency':10}\n",
    "data['Nutritional Deficiencies ']=[mapping.get(pt,-1) for pt in data['Nutritional Deficiencies ']]"
   ]
  },
  {
   "cell_type": "code",
   "execution_count": 9,
   "id": "4ca5c64e-c5d7-46bb-acfd-c463e6196c89",
   "metadata": {},
   "outputs": [],
   "source": [
    "data['Age']=data['Age'].div(100)"
   ]
  },
  {
   "cell_type": "code",
   "execution_count": 10,
   "id": "f8dc0631-240d-4869-8e13-1ac6ffe1f139",
   "metadata": {},
   "outputs": [],
   "source": [
    "x=data.drop(['Id','Hair Loss'],axis=1)"
   ]
  },
  {
   "cell_type": "code",
   "execution_count": 11,
   "id": "e8c236ca-85ba-4961-82a7-0dbf797a3ce7",
   "metadata": {},
   "outputs": [],
   "source": [
    "y=data['Hair Loss']"
   ]
  },
  {
   "cell_type": "code",
   "execution_count": 12,
   "id": "a947107f-7a8b-4e9a-989e-ec8dbd197f51",
   "metadata": {},
   "outputs": [],
   "source": [
    "x=np.array(x)\n",
    "y=np.array(y)"
   ]
  },
  {
   "cell_type": "code",
   "execution_count": 13,
   "id": "8da2d369-5f74-45ad-bda7-867015ccbc8b",
   "metadata": {},
   "outputs": [],
   "source": [
    "x_train,x_test,y_train,y_test=train_test_split(x,y,test_size=0.2,random_state=42)"
   ]
  },
  {
   "cell_type": "code",
   "execution_count": 23,
   "id": "9b72db3f-d8e9-4a12-89ab-ec0d7de08bad",
   "metadata": {},
   "outputs": [
    {
     "data": {
      "text/plain": [
       "(799, 11)"
      ]
     },
     "execution_count": 23,
     "metadata": {},
     "output_type": "execute_result"
    }
   ],
   "source": [
    "x_train.shape"
   ]
  },
  {
   "cell_type": "code",
   "execution_count": 76,
   "id": "384e5847-d2d9-459c-9c9b-5b0591a1687f",
   "metadata": {},
   "outputs": [],
   "source": [
    "model = models.Sequential([\n",
    "    Dense(64,activation='relu',input_shape=(11,)),\n",
    "    Dense(32,activation='relu'),\n",
    "    Dense(64,activation='relu'),\n",
    "    Dense(32,activation='relu'),\n",
    "    Dense(64,activation='relu'),\n",
    "    Dense(1,activation='sigmoid')\n",
    "])"
   ]
  },
  {
   "cell_type": "code",
   "execution_count": 77,
   "id": "0863b44a-7786-4330-aded-c9634a721416",
   "metadata": {},
   "outputs": [],
   "source": [
    "model.compile(optimizer='adam',\n",
    "              loss='binary_crossentropy',\n",
    "              metrics=['accuracy'])"
   ]
  },
  {
   "cell_type": "code",
   "execution_count": 81,
   "id": "bed8460c-872d-4bad-96e1-ba1104bd642b",
   "metadata": {},
   "outputs": [
    {
     "name": "stdout",
     "output_type": "stream",
     "text": [
      "Epoch 1/90\n",
      "32/32 [==============================] - 0s 4ms/step - loss: 0.3217 - accuracy: 0.8559\n",
      "Epoch 2/90\n",
      "32/32 [==============================] - 0s 4ms/step - loss: 0.3091 - accuracy: 0.8639\n",
      "Epoch 3/90\n",
      "32/32 [==============================] - 0s 4ms/step - loss: 0.2735 - accuracy: 0.8819\n",
      "Epoch 4/90\n",
      "32/32 [==============================] - 0s 4ms/step - loss: 0.2934 - accuracy: 0.8649\n",
      "Epoch 5/90\n",
      "32/32 [==============================] - 0s 4ms/step - loss: 0.2606 - accuracy: 0.8869\n",
      "Epoch 6/90\n",
      "32/32 [==============================] - 0s 4ms/step - loss: 0.2176 - accuracy: 0.9159\n",
      "Epoch 7/90\n",
      "32/32 [==============================] - 0s 4ms/step - loss: 0.2099 - accuracy: 0.9149\n",
      "Epoch 8/90\n",
      "32/32 [==============================] - 0s 4ms/step - loss: 0.2895 - accuracy: 0.8849\n",
      "Epoch 9/90\n",
      "32/32 [==============================] - 0s 4ms/step - loss: 0.3197 - accuracy: 0.8679\n",
      "Epoch 10/90\n",
      "32/32 [==============================] - 0s 4ms/step - loss: 0.2450 - accuracy: 0.8939\n",
      "Epoch 11/90\n",
      "32/32 [==============================] - 0s 4ms/step - loss: 0.2207 - accuracy: 0.9069\n",
      "Epoch 12/90\n",
      "32/32 [==============================] - 0s 4ms/step - loss: 0.2190 - accuracy: 0.9069\n",
      "Epoch 13/90\n",
      "32/32 [==============================] - 0s 4ms/step - loss: 0.2075 - accuracy: 0.9149\n",
      "Epoch 14/90\n",
      "32/32 [==============================] - 0s 4ms/step - loss: 0.1855 - accuracy: 0.9289\n",
      "Epoch 15/90\n",
      "32/32 [==============================] - 0s 4ms/step - loss: 0.1971 - accuracy: 0.9209\n",
      "Epoch 16/90\n",
      "32/32 [==============================] - 0s 3ms/step - loss: 0.1798 - accuracy: 0.9249\n",
      "Epoch 17/90\n",
      "32/32 [==============================] - 0s 3ms/step - loss: 0.1604 - accuracy: 0.9409\n",
      "Epoch 18/90\n",
      "32/32 [==============================] - 0s 4ms/step - loss: 0.2188 - accuracy: 0.9259\n",
      "Epoch 19/90\n",
      "32/32 [==============================] - 0s 4ms/step - loss: 0.1593 - accuracy: 0.9319\n",
      "Epoch 20/90\n",
      "32/32 [==============================] - 0s 4ms/step - loss: 0.1844 - accuracy: 0.9289\n",
      "Epoch 21/90\n",
      "32/32 [==============================] - 0s 4ms/step - loss: 0.1673 - accuracy: 0.9249\n",
      "Epoch 22/90\n",
      "32/32 [==============================] - 0s 4ms/step - loss: 0.1675 - accuracy: 0.9359\n",
      "Epoch 23/90\n",
      "32/32 [==============================] - 0s 4ms/step - loss: 0.1404 - accuracy: 0.9479\n",
      "Epoch 24/90\n",
      "32/32 [==============================] - 0s 4ms/step - loss: 0.2534 - accuracy: 0.9029\n",
      "Epoch 25/90\n",
      "32/32 [==============================] - 0s 4ms/step - loss: 0.1385 - accuracy: 0.9560\n",
      "Epoch 26/90\n",
      "32/32 [==============================] - 0s 4ms/step - loss: 0.1154 - accuracy: 0.9590\n",
      "Epoch 27/90\n",
      "32/32 [==============================] - 0s 4ms/step - loss: 0.1066 - accuracy: 0.9670\n",
      "Epoch 28/90\n",
      "32/32 [==============================] - 0s 4ms/step - loss: 0.1119 - accuracy: 0.9670\n",
      "Epoch 29/90\n",
      "32/32 [==============================] - 0s 4ms/step - loss: 0.1251 - accuracy: 0.9580\n",
      "Epoch 30/90\n",
      "32/32 [==============================] - 0s 4ms/step - loss: 0.2086 - accuracy: 0.9369\n",
      "Epoch 31/90\n",
      "32/32 [==============================] - 0s 4ms/step - loss: 0.1689 - accuracy: 0.9319\n",
      "Epoch 32/90\n",
      "32/32 [==============================] - 0s 4ms/step - loss: 0.1520 - accuracy: 0.9409\n",
      "Epoch 33/90\n",
      "32/32 [==============================] - 0s 4ms/step - loss: 0.1286 - accuracy: 0.9560\n",
      "Epoch 34/90\n",
      "32/32 [==============================] - 0s 4ms/step - loss: 0.1091 - accuracy: 0.9590\n",
      "Epoch 35/90\n",
      "32/32 [==============================] - 0s 3ms/step - loss: 0.0858 - accuracy: 0.9730\n",
      "Epoch 36/90\n",
      "32/32 [==============================] - 0s 4ms/step - loss: 0.0764 - accuracy: 0.9800\n",
      "Epoch 37/90\n",
      "32/32 [==============================] - 0s 4ms/step - loss: 0.0794 - accuracy: 0.9740\n",
      "Epoch 38/90\n",
      "32/32 [==============================] - 0s 4ms/step - loss: 0.0889 - accuracy: 0.9750\n",
      "Epoch 39/90\n",
      "32/32 [==============================] - 0s 4ms/step - loss: 0.0758 - accuracy: 0.9760\n",
      "Epoch 40/90\n",
      "32/32 [==============================] - 0s 3ms/step - loss: 0.0891 - accuracy: 0.9700\n",
      "Epoch 41/90\n",
      "32/32 [==============================] - 0s 4ms/step - loss: 0.0754 - accuracy: 0.9810\n",
      "Epoch 42/90\n",
      "32/32 [==============================] - 0s 4ms/step - loss: 0.0722 - accuracy: 0.9770\n",
      "Epoch 43/90\n",
      "32/32 [==============================] - 0s 4ms/step - loss: 0.0680 - accuracy: 0.9700\n",
      "Epoch 44/90\n",
      "32/32 [==============================] - 0s 3ms/step - loss: 0.0762 - accuracy: 0.9770\n",
      "Epoch 45/90\n",
      "32/32 [==============================] - 0s 4ms/step - loss: 0.2357 - accuracy: 0.9129\n",
      "Epoch 46/90\n",
      "32/32 [==============================] - 0s 3ms/step - loss: 0.2368 - accuracy: 0.9139\n",
      "Epoch 47/90\n",
      "32/32 [==============================] - 0s 4ms/step - loss: 0.1647 - accuracy: 0.9299\n",
      "Epoch 48/90\n",
      "32/32 [==============================] - 0s 4ms/step - loss: 0.1174 - accuracy: 0.9499\n",
      "Epoch 49/90\n",
      "32/32 [==============================] - 0s 4ms/step - loss: 0.0592 - accuracy: 0.9900\n",
      "Epoch 50/90\n",
      "32/32 [==============================] - 0s 4ms/step - loss: 0.0516 - accuracy: 0.9900\n",
      "Epoch 51/90\n",
      "32/32 [==============================] - 0s 4ms/step - loss: 0.0367 - accuracy: 0.9940\n",
      "Epoch 52/90\n",
      "32/32 [==============================] - 0s 4ms/step - loss: 0.0376 - accuracy: 0.9920\n",
      "Epoch 53/90\n",
      "32/32 [==============================] - 0s 4ms/step - loss: 0.0583 - accuracy: 0.9800\n",
      "Epoch 54/90\n",
      "32/32 [==============================] - 0s 4ms/step - loss: 0.0480 - accuracy: 0.9860\n",
      "Epoch 55/90\n",
      "32/32 [==============================] - 0s 4ms/step - loss: 0.0333 - accuracy: 0.9900\n",
      "Epoch 56/90\n",
      "32/32 [==============================] - 0s 3ms/step - loss: 0.0316 - accuracy: 0.9940\n",
      "Epoch 57/90\n",
      "32/32 [==============================] - 0s 4ms/step - loss: 0.0414 - accuracy: 0.9920\n",
      "Epoch 58/90\n",
      "32/32 [==============================] - 0s 4ms/step - loss: 0.0287 - accuracy: 0.9960\n",
      "Epoch 59/90\n",
      "32/32 [==============================] - 0s 4ms/step - loss: 0.0296 - accuracy: 0.9950\n",
      "Epoch 60/90\n",
      "32/32 [==============================] - 0s 4ms/step - loss: 0.0252 - accuracy: 0.9960\n",
      "Epoch 61/90\n",
      "32/32 [==============================] - 0s 4ms/step - loss: 0.0244 - accuracy: 0.9920\n",
      "Epoch 62/90\n",
      "32/32 [==============================] - 0s 4ms/step - loss: 0.0261 - accuracy: 0.9960\n",
      "Epoch 63/90\n",
      "32/32 [==============================] - 0s 4ms/step - loss: 0.0309 - accuracy: 0.9900\n",
      "Epoch 64/90\n",
      "32/32 [==============================] - 0s 4ms/step - loss: 0.0337 - accuracy: 0.9890\n",
      "Epoch 65/90\n",
      "32/32 [==============================] - 0s 4ms/step - loss: 0.2487 - accuracy: 0.9329\n",
      "Epoch 66/90\n",
      "32/32 [==============================] - 0s 4ms/step - loss: 0.5230 - accuracy: 0.8509\n",
      "Epoch 67/90\n",
      "32/32 [==============================] - 0s 4ms/step - loss: 0.3017 - accuracy: 0.8809\n",
      "Epoch 68/90\n",
      "32/32 [==============================] - 0s 4ms/step - loss: 0.1273 - accuracy: 0.9489\n",
      "Epoch 69/90\n",
      "32/32 [==============================] - 0s 4ms/step - loss: 0.0674 - accuracy: 0.9800\n",
      "Epoch 70/90\n",
      "32/32 [==============================] - 0s 3ms/step - loss: 0.0409 - accuracy: 0.9930\n",
      "Epoch 71/90\n",
      "32/32 [==============================] - 0s 5ms/step - loss: 0.0330 - accuracy: 0.9950\n",
      "Epoch 72/90\n",
      "32/32 [==============================] - 0s 4ms/step - loss: 0.0253 - accuracy: 0.9970\n",
      "Epoch 73/90\n",
      "32/32 [==============================] - 0s 4ms/step - loss: 0.0548 - accuracy: 0.9830\n",
      "Epoch 74/90\n",
      "32/32 [==============================] - 0s 4ms/step - loss: 0.0275 - accuracy: 0.9970\n",
      "Epoch 75/90\n",
      "32/32 [==============================] - 0s 3ms/step - loss: 0.0245 - accuracy: 0.9980\n",
      "Epoch 76/90\n",
      "32/32 [==============================] - 0s 3ms/step - loss: 0.0362 - accuracy: 0.9920\n",
      "Epoch 77/90\n",
      "32/32 [==============================] - 0s 4ms/step - loss: 0.0297 - accuracy: 0.9920\n",
      "Epoch 78/90\n",
      "32/32 [==============================] - 0s 4ms/step - loss: 0.0254 - accuracy: 0.9960\n",
      "Epoch 79/90\n",
      "32/32 [==============================] - 0s 4ms/step - loss: 0.0293 - accuracy: 0.9910\n",
      "Epoch 80/90\n",
      "32/32 [==============================] - 0s 4ms/step - loss: 0.0266 - accuracy: 0.9930\n",
      "Epoch 81/90\n",
      "32/32 [==============================] - 0s 3ms/step - loss: 0.0264 - accuracy: 0.9940\n",
      "Epoch 82/90\n",
      "32/32 [==============================] - 0s 3ms/step - loss: 0.0275 - accuracy: 0.9950\n",
      "Epoch 83/90\n",
      "32/32 [==============================] - 0s 4ms/step - loss: 0.0164 - accuracy: 0.9950\n",
      "Epoch 84/90\n",
      "32/32 [==============================] - 0s 4ms/step - loss: 0.0130 - accuracy: 0.9980\n",
      "Epoch 85/90\n",
      "32/32 [==============================] - 0s 4ms/step - loss: 0.0147 - accuracy: 0.9980\n",
      "Epoch 86/90\n",
      "32/32 [==============================] - 0s 4ms/step - loss: 0.0125 - accuracy: 0.9970\n",
      "Epoch 87/90\n",
      "32/32 [==============================] - 0s 3ms/step - loss: 0.0184 - accuracy: 0.9950\n",
      "Epoch 88/90\n",
      "32/32 [==============================] - 0s 3ms/step - loss: 0.0167 - accuracy: 0.9940\n",
      "Epoch 89/90\n",
      "32/32 [==============================] - 0s 3ms/step - loss: 0.0233 - accuracy: 0.9940\n",
      "Epoch 90/90\n",
      "32/32 [==============================] - 0s 4ms/step - loss: 0.0122 - accuracy: 0.9970\n"
     ]
    },
    {
     "data": {
      "text/plain": [
       "<keras.src.callbacks.History at 0x1c9fafbcfa0>"
      ]
     },
     "execution_count": 81,
     "metadata": {},
     "output_type": "execute_result"
    }
   ],
   "source": [
    "model.fit(x,y,epochs=90,batch_size=32)"
   ]
  },
  {
   "cell_type": "code",
   "execution_count": 82,
   "id": "6345ff17-66f5-47b8-bc3f-0544fe0835a0",
   "metadata": {},
   "outputs": [
    {
     "name": "stdout",
     "output_type": "stream",
     "text": [
      "7/7 [==============================] - 0s 3ms/step - loss: 0.0226 - accuracy: 0.9900\n",
      "Test accuracy: 0.9900000095367432\n"
     ]
    }
   ],
   "source": [
    "test_loss, test_acc = model.evaluate(x_test, y_test)\n",
    "print('Test accuracy:', test_acc)"
   ]
  },
  {
   "cell_type": "code",
   "execution_count": 83,
   "id": "236edbda-0496-4f5a-8441-26dc1ced81ee",
   "metadata": {},
   "outputs": [
    {
     "name": "stdout",
     "output_type": "stream",
     "text": [
      "7/7 [==============================] - 0s 4ms/step - loss: 0.0226 - accuracy: 0.9900\n",
      "Model Accuracy: 99.00%\n"
     ]
    }
   ],
   "source": [
    "accuracy = model.evaluate(x_test, y_test)[1]\n",
    "print(f'Model Accuracy: {accuracy * 100:.2f}%')"
   ]
  },
  {
   "cell_type": "code",
   "execution_count": null,
   "id": "e02d470f-dcb8-4132-bd7d-b252c2ecdf8b",
   "metadata": {},
   "outputs": [],
   "source": [
    "model.save(_"
   ]
  }
 ],
 "metadata": {
  "kernelspec": {
   "display_name": "Python 3 (ipykernel)",
   "language": "python",
   "name": "python3"
  },
  "language_info": {
   "codemirror_mode": {
    "name": "ipython",
    "version": 3
   },
   "file_extension": ".py",
   "mimetype": "text/x-python",
   "name": "python",
   "nbconvert_exporter": "python",
   "pygments_lexer": "ipython3",
   "version": "3.8.0"
  }
 },
 "nbformat": 4,
 "nbformat_minor": 5
}
